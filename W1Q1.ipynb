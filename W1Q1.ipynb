{
 "cells": [
  {
   "cell_type": "markdown",
   "metadata": {},
   "source": [
    "#### A description of the problem and a discussion of the background. (15 marks)"
   ]
  },
  {
   "cell_type": "markdown",
   "metadata": {},
   "source": [
    "My project is a business solution for a client who desires to open a restaurant in my hometown, which is Curitiba, in the south of Brazil.\n",
    "The client whishes to open a vegan restaurant, and he wants to find out which one is the best neighborhood to offer an alternative for animal based food.\n",
    "He wishes to find an area where there are other restaurants, but not a saturated one. An area where people usually go to eat out, but still with opportunity for growth."
   ]
  }
 ],
 "metadata": {
  "kernelspec": {
   "display_name": "Python 3",
   "language": "python",
   "name": "python3"
  },
  "language_info": {
   "codemirror_mode": {
    "name": "ipython",
    "version": 3
   },
   "file_extension": ".py",
   "mimetype": "text/x-python",
   "name": "python",
   "nbconvert_exporter": "python",
   "pygments_lexer": "ipython3",
   "version": "3.7.6"
  }
 },
 "nbformat": 4,
 "nbformat_minor": 4
}
